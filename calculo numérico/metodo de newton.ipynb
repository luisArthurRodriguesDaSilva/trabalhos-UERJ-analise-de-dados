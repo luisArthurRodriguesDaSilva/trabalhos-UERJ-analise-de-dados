{
 "cells": [
  {
   "cell_type": "markdown",
   "metadata": {},
   "source": [
    "# Com newton"
   ]
  },
  {
   "cell_type": "code",
   "execution_count": 47,
   "metadata": {},
   "outputs": [],
   "source": [
    "import math as m\n",
    "\n",
    "def by_newton(x0, n,f,derivate):\n",
    "    x = x0\n",
    "    for i in range(n):\n",
    "        x = x - (f(x)/derivate(x))\n",
    "        print(f\"imagem: {f(x)}\")\n",
    "        print(f\"interação:{i+1}  x = {x}\")\n",
    "    return x"
   ]
  },
  {
   "cell_type": "code",
   "execution_count": 48,
   "metadata": {},
   "outputs": [
    {
     "name": "stdout",
     "output_type": "stream",
     "text": [
      "imagem: 0.22233281870247937\n",
      "interação:1  x = -15.932169794464748\n",
      "imagem: -0.0038339469973546654\n",
      "interação:2  x = -15.704129311558923\n",
      "imagem: 1.878550231867239e-08\n",
      "interação:3  x = -15.707963286734469\n",
      "imagem: -6.123233995736766e-16\n",
      "interação:4  x = -15.707963267948966\n",
      "imagem: -6.123233995736766e-16\n",
      "interação:5  x = -15.707963267948966\n"
     ]
    },
    {
     "data": {
      "text/plain": [
       "-15.707963267948966"
      ]
     },
     "execution_count": 48,
     "metadata": {},
     "output_type": "execute_result"
    }
   ],
   "source": [
    "def f(x):\n",
    "    return m.sin(x)\n",
    "\n",
    "def derivate(x):\n",
    "    return m.cos(x)\n",
    "\n",
    "by_newton(-14.913140326591, 5,f,derivate)"
   ]
  },
  {
   "cell_type": "markdown",
   "metadata": {},
   "source": [
    "# Com secante"
   ]
  },
  {
   "cell_type": "code",
   "execution_count": null,
   "metadata": {},
   "outputs": [],
   "source": [
    "\n"
   ]
  },
  {
   "cell_type": "code",
   "execution_count": 49,
   "metadata": {},
   "outputs": [
    {
     "name": "stdout",
     "output_type": "stream",
     "text": [
      "imagem: 0.8217464086296504\n",
      "interação:1  x = -12.795351207328872\n",
      "imagem: -0.22698484288281268\n",
      "interação:2  x = -12.53704389037328\n",
      "imagem: 0.02932252039222732\n",
      "interação:3  x = -12.566595212942051\n",
      "imagem: -0.00022459858098981442\n",
      "interação:4  x = -12.566370582407977\n",
      "imagem: 3.1951195957031225e-08\n",
      "interação:5  x = -12.566370614359172\n"
     ]
    },
    {
     "data": {
      "text/plain": [
       "-12.566370582407977"
      ]
     },
     "execution_count": 49,
     "metadata": {},
     "output_type": "execute_result"
    }
   ],
   "source": [
    "def get_a(f,x0,x1):\n",
    "    increment= x1-x0\n",
    "    dy = f(x0+increment) - f(x0)\n",
    "    dx = increment\n",
    "    return dy/dx\n",
    "\n",
    "\n",
    "def by_secante(x0,x1, n,f):\n",
    "    x = x0\n",
    "    X1=x1\n",
    "    for i in range(n):\n",
    "        [X1,x] = [(x - (f(x)/get_a(f,x,X1))) , X1]\n",
    "        print(f\"imagem: {f(x)}\")\n",
    "        print(f\"interação:{i+1}  x = {X1}\")\n",
    "    return x\n",
    "\n",
    "by_secante(-11.916060935066,-11.601901669707,5,f)"
   ]
  },
  {
   "cell_type": "markdown",
   "metadata": {},
   "source": [
    "# Resoluções\n"
   ]
  },
  {
   "cell_type": "code",
   "execution_count": 50,
   "metadata": {},
   "outputs": [
    {
     "name": "stdout",
     "output_type": "stream",
     "text": [
      "imagem: 15.233408999999398\n",
      "interação:1  x = 3.902999999999974\n",
      "imagem: 3.5606766375083936\n",
      "interação:2  x = 3.2418107741826057\n",
      "imagem: 0.5137680293681548\n",
      "interação:3  x = 2.961576207601204\n",
      "imagem: 0.018813162869914635\n",
      "interação:4  x = 2.905228953907483\n",
      "imagem: 2.877935203571269e-05\n",
      "interação:5  x = 2.903003414962336\n"
     ]
    },
    {
     "data": {
      "text/plain": [
       "2.903003414962336"
      ]
     },
     "execution_count": 50,
     "metadata": {},
     "output_type": "execute_result"
    }
   ],
   "source": [
    "number = 2.903\n",
    "f = lambda x : ((x**3) - number*(x**2))\n",
    "derivate = lambda x : (3*(x**2) - 2*number*x)\n",
    "\n",
    "by_newton(5.0721546779685, 5,f,derivate)\n"
   ]
  },
  {
   "cell_type": "code",
   "execution_count": 51,
   "metadata": {},
   "outputs": [
    {
     "name": "stdout",
     "output_type": "stream",
     "text": [
      "imagem: 48.10809599999999\n",
      "interação:1  x = 6.318057793280222\n",
      "imagem: 15.250927318403683\n",
      "interação:2  x = 6.031234793618175\n",
      "imagem: 3.4642411519806444\n",
      "interação:3  x = 5.946934251062427\n",
      "imagem: 0.3867010181504895\n",
      "interação:4  x = 5.936341666004445\n",
      "imagem: 0.012040362058172605\n",
      "interação:5  x = 5.93600125513622\n"
     ]
    },
    {
     "data": {
      "text/plain": [
       "5.936341666004445"
      ]
     },
     "execution_count": 51,
     "metadata": {},
     "output_type": "execute_result"
    }
   ],
   "source": [
    "number = 5.936\n",
    "f = lambda x : ((x**3) - number*(x**2))\n",
    "derivate = lambda x : (3*(x**2) - 2*number*x)\n",
    "\n",
    "by_secante(7.936, 6.936,5,f)"
   ]
  },
  {
   "cell_type": "code",
   "execution_count": 52,
   "metadata": {},
   "outputs": [
    {
     "name": "stdout",
     "output_type": "stream",
     "text": [
      "imagem: 38.316100000000006\n",
      "interação:1  x = 5.601210874652907\n",
      "imagem: 12.901150390081\n",
      "interação:2  x = 5.302329422171785\n",
      "imagem: 3.158107702381642\n",
      "interação:3  x = 5.205450054254069\n",
      "imagem: 0.41864564373707935\n",
      "interação:4  x = 5.1906449120478575\n",
      "imagem: 0.01737573284239602\n",
      "interação:5  x = 5.190003821877166\n"
     ]
    },
    {
     "data": {
      "text/plain": [
       "5.1906449120478575"
      ]
     },
     "execution_count": 52,
     "metadata": {},
     "output_type": "execute_result"
    }
   ],
   "source": [
    "number = 5.19\n",
    "f = lambda x : ((x**3) - number*(x**2))\n",
    "derivate = lambda x : (3*(x**2) - 2*number*x)\n",
    "\n",
    "by_secante(7.19, 6.19,5,f)"
   ]
  },
  {
   "cell_type": "code",
   "execution_count": 53,
   "metadata": {},
   "outputs": [
    {
     "name": "stdout",
     "output_type": "stream",
     "text": [
      "imagem: 36.10808100000034\n",
      "interação:1  x = 6.0090000000000074\n",
      "imagem: 6.9057625710189825\n",
      "interação:2  x = 5.258719066050697\n",
      "imagem: 0.5481504076892207\n",
      "interação:3  x = 5.030659572603973\n",
      "imagem: 0.004639970810870864\n",
      "interação:4  x = 5.009184918822675\n",
      "imagem: 3.425273007451324e-07\n",
      "interação:5  x = 5.009000013651901\n"
     ]
    },
    {
     "data": {
      "text/plain": [
       "5.009000013651901"
      ]
     },
     "execution_count": 53,
     "metadata": {},
     "output_type": "execute_result"
    }
   ],
   "source": [
    "number = 5.009\n",
    "f = lambda x : ((x**3) - number*(x**2))\n",
    "derivate = lambda x : (3*(x**2) - 2*number*x)\n",
    "\n",
    "\n",
    "by_newton(7.5102852423292, 5,f,derivate)"
   ]
  },
  {
   "cell_type": "code",
   "execution_count": 54,
   "metadata": {},
   "outputs": [
    {
     "name": "stdout",
     "output_type": "stream",
     "text": [
      "imagem: 33.07400100000001\n",
      "interação:1  x = 5.181524459683108\n",
      "imagem: 11.55880495852918\n",
      "interação:2  x = 4.87557992232039\n",
      "imagem: 2.961424163399812\n",
      "interação:3  x = 4.77019532121962\n",
      "imagem: 0.4367849927890717\n",
      "interação:4  x = 4.751962849519221\n",
      "imagem: 0.021742250309856104\n",
      "interação:5  x = 4.751007731111152\n"
     ]
    },
    {
     "data": {
      "text/plain": [
       "4.751962849519221"
      ]
     },
     "execution_count": 54,
     "metadata": {},
     "output_type": "execute_result"
    }
   ],
   "source": [
    "number = 4.751\n",
    "f = lambda x : ((x**3) - number*(x**2))\n",
    "derivate = lambda x : (3*(x**2) - 2*number*x)\n",
    "\n",
    "by_secante(6.751, 5.751,5,f)"
   ]
  },
  {
   "cell_type": "code",
   "execution_count": 55,
   "metadata": {},
   "outputs": [
    {
     "name": "stdout",
     "output_type": "stream",
     "text": [
      "imagem: 29.300569000000735\n",
      "interação:1  x = 5.413000000000019\n",
      "imagem: 5.916250161283159\n",
      "interação:2  x = 4.682796303790647\n",
      "imagem: 0.5497561530838198\n",
      "interação:3  x = 4.440876148932758\n",
      "imagem: 0.006732004920920076\n",
      "interação:4  x = 4.413345627702407\n",
      "imagem: 1.0540931469904535e-06\n",
      "interação:5  x = 4.413000054126647\n"
     ]
    },
    {
     "data": {
      "text/plain": [
       "4.413000054126647"
      ]
     },
     "execution_count": 55,
     "metadata": {},
     "output_type": "execute_result"
    }
   ],
   "source": [
    "number = 4.413\n",
    "f = lambda x : ((x**3) - number*(x**2))\n",
    "derivate = lambda x : (3*(x**2) - 2*number*x)\n",
    "\n",
    "by_newton(6.8270312497066,5,f,derivate)"
   ]
  },
  {
   "cell_type": "code",
   "execution_count": 59,
   "metadata": {},
   "outputs": [
    {
     "name": "stdout",
     "output_type": "stream",
     "text": [
      "imagem: 40.233649000000014\n",
      "interação:1  x = 5.747877408986932\n",
      "imagem: 13.376378183540481\n",
      "interação:2  x = 5.4514740663926196\n",
      "imagem: 3.2236940806625967\n",
      "interação:3  x = 5.357359673456958\n",
      "imagem: 0.4121413341417508\n",
      "interação:4  x = 5.343563584617991\n",
      "imagem: 0.016092410203981444\n",
      "interação:5  x = 5.3430030166997655\n"
     ]
    },
    {
     "data": {
      "text/plain": [
       "5.343563584617991"
      ]
     },
     "execution_count": 59,
     "metadata": {},
     "output_type": "execute_result"
    }
   ],
   "source": [
    "number = 5.343\n",
    "f = lambda x : ((x**3) - number*(x**2))\n",
    "derivate = lambda x : (3*(x**2) - 2*number*x)\n",
    "\n",
    "by_secante(7.343,6.343,5,f)"
   ]
  },
  {
   "cell_type": "code",
   "execution_count": null,
   "metadata": {},
   "outputs": [],
   "source": []
  },
  {
   "cell_type": "code",
   "execution_count": 1,
   "metadata": {},
   "outputs": [
    {
     "data": {
      "text/plain": [
       "2.5641025641025643"
      ]
     },
     "execution_count": 1,
     "metadata": {},
     "output_type": "execute_result"
    }
   ],
   "source": [
    "3/1.17"
   ]
  },
  {
   "cell_type": "code",
   "execution_count": null,
   "metadata": {},
   "outputs": [],
   "source": []
  }
 ],
 "metadata": {
  "kernelspec": {
   "display_name": "Python 3",
   "language": "python",
   "name": "python3"
  },
  "language_info": {
   "codemirror_mode": {
    "name": "ipython",
    "version": 3
   },
   "file_extension": ".py",
   "mimetype": "text/x-python",
   "name": "python",
   "nbconvert_exporter": "python",
   "pygments_lexer": "ipython3",
   "version": "3.11.3"
  },
  "orig_nbformat": 4
 },
 "nbformat": 4,
 "nbformat_minor": 2
}
