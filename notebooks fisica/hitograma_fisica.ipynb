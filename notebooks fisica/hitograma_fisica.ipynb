{
  "nbformat": 4,
  "nbformat_minor": 0,
  "metadata": {
    "colab": {
      "provenance": [],
      "mount_file_id": "1XuWzH8s_UV-9KhTxWJne_rDLSqi3FMMg",
      "authorship_tag": "ABX9TyOmOxQsIduKOmZoeS9U3v/J",
      "include_colab_link": true
    },
    "kernelspec": {
      "name": "python3",
      "display_name": "Python 3"
    },
    "language_info": {
      "name": "python"
    }
  },
  "cells": [
    {
      "cell_type": "markdown",
      "metadata": {
        "id": "view-in-github",
        "colab_type": "text"
      },
      "source": [
        "<a href=\"https://colab.research.google.com/github/luisArthurRodriguesDaSilva/trabalho-UERJ-analise-de-dados/blob/main/hitograma_fisica.ipynb\" target=\"_parent\"><img src=\"https://colab.research.google.com/assets/colab-badge.svg\" alt=\"Open In Colab\"/></a>"
      ]
    },
    {
      "cell_type": "code",
      "execution_count": 1,
      "metadata": {
        "id": "jH_HytQf9m6-"
      },
      "outputs": [],
      "source": [
        "import numpy as np\n",
        "import pandas as pd"
      ]
    },
    {
      "cell_type": "code",
      "source": [
        "with open('/content/drive/MyDrive/fis hist/relação peso massa e altura - Respostas ao formulário 1.csv','r') as f:\n",
        "  bruteDf = pd.read_csv(f)"
      ],
      "metadata": {
        "id": "xELAaefz-v1v"
      },
      "execution_count": 24,
      "outputs": []
    },
    {
      "cell_type": "code",
      "source": [
        "df = bruteDf.drop(columns=['Carimbo de data/hora'])\n",
        "df"
      ],
      "metadata": {
        "colab": {
          "base_uri": "https://localhost:8080/",
          "height": 846
        },
        "id": "qZ25WWC2D3OH",
        "outputId": "05522e53-f959-407a-cfc2-69d83374518a"
      },
      "execution_count": 75,
      "outputs": [
        {
          "output_type": "execute_result",
          "data": {
            "text/plain": [
              "        Sexo   Pratica atividade física quantas vezes por semana  \\\n",
              "0   Masculino                                                  6   \n",
              "1   Masculino                                                  5   \n",
              "2    Femenino                                                  3   \n",
              "3   Masculino                                                  6   \n",
              "4   Masculino                                                  4   \n",
              "5    Femenino                                                  3   \n",
              "6    Femenino                                                  5   \n",
              "7   Masculino                                                  1   \n",
              "8   Masculino                                                  2   \n",
              "9   Masculino                                                  4   \n",
              "10   Femenino                                                  0   \n",
              "11   Femenino                                                  7   \n",
              "12  Masculino                                                  2   \n",
              "13  Masculino                                                  4   \n",
              "14  Masculino                                                  3   \n",
              "15  Masculino                                                  3   \n",
              "16  Masculino                                                  3   \n",
              "17  Masculino                                                  5   \n",
              "18  Masculino                                                  6   \n",
              "19  Masculino                                                  4   \n",
              "20  Masculino                                                  5   \n",
              "21  Masculino                                                  3   \n",
              "22  Masculino                                                  0   \n",
              "23  Masculino                                                  3   \n",
              "\n",
              "   Altura (em cm) Peso (em kg)  Qual a sua idade  \n",
              "0             175           76                18  \n",
              "1             177           69                18  \n",
              "2             151           50                17  \n",
              "3             182           82                22  \n",
              "4             166           67                19  \n",
              "5            1,65           57                18  \n",
              "6             1,7           80                48  \n",
              "7            1073         78,5                22  \n",
              "8             173           59                19  \n",
              "9            1,77           85                20  \n",
              "10            153           55                18  \n",
              "11            158           52                18  \n",
              "12            180          110                19  \n",
              "13            184           70                19  \n",
              "14            171           88                51  \n",
              "15           1,74           80                24  \n",
              "16           1,61           60                18  \n",
              "17            171           77                21  \n",
              "18            173           74                19  \n",
              "19           1,78           70                19  \n",
              "20            1,8           76                19  \n",
              "21            183           95                18  \n",
              "22            178           72                19  \n",
              "23           1,78           63                19  "
            ],
            "text/html": [
              "\n",
              "  <div id=\"df-ebb97014-ec57-43d2-b195-704063eb33bb\">\n",
              "    <div class=\"colab-df-container\">\n",
              "      <div>\n",
              "<style scoped>\n",
              "    .dataframe tbody tr th:only-of-type {\n",
              "        vertical-align: middle;\n",
              "    }\n",
              "\n",
              "    .dataframe tbody tr th {\n",
              "        vertical-align: top;\n",
              "    }\n",
              "\n",
              "    .dataframe thead th {\n",
              "        text-align: right;\n",
              "    }\n",
              "</style>\n",
              "<table border=\"1\" class=\"dataframe\">\n",
              "  <thead>\n",
              "    <tr style=\"text-align: right;\">\n",
              "      <th></th>\n",
              "      <th>Sexo</th>\n",
              "      <th>Pratica atividade física quantas vezes por semana</th>\n",
              "      <th>Altura (em cm)</th>\n",
              "      <th>Peso (em kg)</th>\n",
              "      <th>Qual a sua idade</th>\n",
              "    </tr>\n",
              "  </thead>\n",
              "  <tbody>\n",
              "    <tr>\n",
              "      <th>0</th>\n",
              "      <td>Masculino</td>\n",
              "      <td>6</td>\n",
              "      <td>175</td>\n",
              "      <td>76</td>\n",
              "      <td>18</td>\n",
              "    </tr>\n",
              "    <tr>\n",
              "      <th>1</th>\n",
              "      <td>Masculino</td>\n",
              "      <td>5</td>\n",
              "      <td>177</td>\n",
              "      <td>69</td>\n",
              "      <td>18</td>\n",
              "    </tr>\n",
              "    <tr>\n",
              "      <th>2</th>\n",
              "      <td>Femenino</td>\n",
              "      <td>3</td>\n",
              "      <td>151</td>\n",
              "      <td>50</td>\n",
              "      <td>17</td>\n",
              "    </tr>\n",
              "    <tr>\n",
              "      <th>3</th>\n",
              "      <td>Masculino</td>\n",
              "      <td>6</td>\n",
              "      <td>182</td>\n",
              "      <td>82</td>\n",
              "      <td>22</td>\n",
              "    </tr>\n",
              "    <tr>\n",
              "      <th>4</th>\n",
              "      <td>Masculino</td>\n",
              "      <td>4</td>\n",
              "      <td>166</td>\n",
              "      <td>67</td>\n",
              "      <td>19</td>\n",
              "    </tr>\n",
              "    <tr>\n",
              "      <th>5</th>\n",
              "      <td>Femenino</td>\n",
              "      <td>3</td>\n",
              "      <td>1,65</td>\n",
              "      <td>57</td>\n",
              "      <td>18</td>\n",
              "    </tr>\n",
              "    <tr>\n",
              "      <th>6</th>\n",
              "      <td>Femenino</td>\n",
              "      <td>5</td>\n",
              "      <td>1,7</td>\n",
              "      <td>80</td>\n",
              "      <td>48</td>\n",
              "    </tr>\n",
              "    <tr>\n",
              "      <th>7</th>\n",
              "      <td>Masculino</td>\n",
              "      <td>1</td>\n",
              "      <td>1073</td>\n",
              "      <td>78,5</td>\n",
              "      <td>22</td>\n",
              "    </tr>\n",
              "    <tr>\n",
              "      <th>8</th>\n",
              "      <td>Masculino</td>\n",
              "      <td>2</td>\n",
              "      <td>173</td>\n",
              "      <td>59</td>\n",
              "      <td>19</td>\n",
              "    </tr>\n",
              "    <tr>\n",
              "      <th>9</th>\n",
              "      <td>Masculino</td>\n",
              "      <td>4</td>\n",
              "      <td>1,77</td>\n",
              "      <td>85</td>\n",
              "      <td>20</td>\n",
              "    </tr>\n",
              "    <tr>\n",
              "      <th>10</th>\n",
              "      <td>Femenino</td>\n",
              "      <td>0</td>\n",
              "      <td>153</td>\n",
              "      <td>55</td>\n",
              "      <td>18</td>\n",
              "    </tr>\n",
              "    <tr>\n",
              "      <th>11</th>\n",
              "      <td>Femenino</td>\n",
              "      <td>7</td>\n",
              "      <td>158</td>\n",
              "      <td>52</td>\n",
              "      <td>18</td>\n",
              "    </tr>\n",
              "    <tr>\n",
              "      <th>12</th>\n",
              "      <td>Masculino</td>\n",
              "      <td>2</td>\n",
              "      <td>180</td>\n",
              "      <td>110</td>\n",
              "      <td>19</td>\n",
              "    </tr>\n",
              "    <tr>\n",
              "      <th>13</th>\n",
              "      <td>Masculino</td>\n",
              "      <td>4</td>\n",
              "      <td>184</td>\n",
              "      <td>70</td>\n",
              "      <td>19</td>\n",
              "    </tr>\n",
              "    <tr>\n",
              "      <th>14</th>\n",
              "      <td>Masculino</td>\n",
              "      <td>3</td>\n",
              "      <td>171</td>\n",
              "      <td>88</td>\n",
              "      <td>51</td>\n",
              "    </tr>\n",
              "    <tr>\n",
              "      <th>15</th>\n",
              "      <td>Masculino</td>\n",
              "      <td>3</td>\n",
              "      <td>1,74</td>\n",
              "      <td>80</td>\n",
              "      <td>24</td>\n",
              "    </tr>\n",
              "    <tr>\n",
              "      <th>16</th>\n",
              "      <td>Masculino</td>\n",
              "      <td>3</td>\n",
              "      <td>1,61</td>\n",
              "      <td>60</td>\n",
              "      <td>18</td>\n",
              "    </tr>\n",
              "    <tr>\n",
              "      <th>17</th>\n",
              "      <td>Masculino</td>\n",
              "      <td>5</td>\n",
              "      <td>171</td>\n",
              "      <td>77</td>\n",
              "      <td>21</td>\n",
              "    </tr>\n",
              "    <tr>\n",
              "      <th>18</th>\n",
              "      <td>Masculino</td>\n",
              "      <td>6</td>\n",
              "      <td>173</td>\n",
              "      <td>74</td>\n",
              "      <td>19</td>\n",
              "    </tr>\n",
              "    <tr>\n",
              "      <th>19</th>\n",
              "      <td>Masculino</td>\n",
              "      <td>4</td>\n",
              "      <td>1,78</td>\n",
              "      <td>70</td>\n",
              "      <td>19</td>\n",
              "    </tr>\n",
              "    <tr>\n",
              "      <th>20</th>\n",
              "      <td>Masculino</td>\n",
              "      <td>5</td>\n",
              "      <td>1,8</td>\n",
              "      <td>76</td>\n",
              "      <td>19</td>\n",
              "    </tr>\n",
              "    <tr>\n",
              "      <th>21</th>\n",
              "      <td>Masculino</td>\n",
              "      <td>3</td>\n",
              "      <td>183</td>\n",
              "      <td>95</td>\n",
              "      <td>18</td>\n",
              "    </tr>\n",
              "    <tr>\n",
              "      <th>22</th>\n",
              "      <td>Masculino</td>\n",
              "      <td>0</td>\n",
              "      <td>178</td>\n",
              "      <td>72</td>\n",
              "      <td>19</td>\n",
              "    </tr>\n",
              "    <tr>\n",
              "      <th>23</th>\n",
              "      <td>Masculino</td>\n",
              "      <td>3</td>\n",
              "      <td>1,78</td>\n",
              "      <td>63</td>\n",
              "      <td>19</td>\n",
              "    </tr>\n",
              "  </tbody>\n",
              "</table>\n",
              "</div>\n",
              "      <button class=\"colab-df-convert\" onclick=\"convertToInteractive('df-ebb97014-ec57-43d2-b195-704063eb33bb')\"\n",
              "              title=\"Convert this dataframe to an interactive table.\"\n",
              "              style=\"display:none;\">\n",
              "        \n",
              "  <svg xmlns=\"http://www.w3.org/2000/svg\" height=\"24px\"viewBox=\"0 0 24 24\"\n",
              "       width=\"24px\">\n",
              "    <path d=\"M0 0h24v24H0V0z\" fill=\"none\"/>\n",
              "    <path d=\"M18.56 5.44l.94 2.06.94-2.06 2.06-.94-2.06-.94-.94-2.06-.94 2.06-2.06.94zm-11 1L8.5 8.5l.94-2.06 2.06-.94-2.06-.94L8.5 2.5l-.94 2.06-2.06.94zm10 10l.94 2.06.94-2.06 2.06-.94-2.06-.94-.94-2.06-.94 2.06-2.06.94z\"/><path d=\"M17.41 7.96l-1.37-1.37c-.4-.4-.92-.59-1.43-.59-.52 0-1.04.2-1.43.59L10.3 9.45l-7.72 7.72c-.78.78-.78 2.05 0 2.83L4 21.41c.39.39.9.59 1.41.59.51 0 1.02-.2 1.41-.59l7.78-7.78 2.81-2.81c.8-.78.8-2.07 0-2.86zM5.41 20L4 18.59l7.72-7.72 1.47 1.35L5.41 20z\"/>\n",
              "  </svg>\n",
              "      </button>\n",
              "      \n",
              "  <style>\n",
              "    .colab-df-container {\n",
              "      display:flex;\n",
              "      flex-wrap:wrap;\n",
              "      gap: 12px;\n",
              "    }\n",
              "\n",
              "    .colab-df-convert {\n",
              "      background-color: #E8F0FE;\n",
              "      border: none;\n",
              "      border-radius: 50%;\n",
              "      cursor: pointer;\n",
              "      display: none;\n",
              "      fill: #1967D2;\n",
              "      height: 32px;\n",
              "      padding: 0 0 0 0;\n",
              "      width: 32px;\n",
              "    }\n",
              "\n",
              "    .colab-df-convert:hover {\n",
              "      background-color: #E2EBFA;\n",
              "      box-shadow: 0px 1px 2px rgba(60, 64, 67, 0.3), 0px 1px 3px 1px rgba(60, 64, 67, 0.15);\n",
              "      fill: #174EA6;\n",
              "    }\n",
              "\n",
              "    [theme=dark] .colab-df-convert {\n",
              "      background-color: #3B4455;\n",
              "      fill: #D2E3FC;\n",
              "    }\n",
              "\n",
              "    [theme=dark] .colab-df-convert:hover {\n",
              "      background-color: #434B5C;\n",
              "      box-shadow: 0px 1px 3px 1px rgba(0, 0, 0, 0.15);\n",
              "      filter: drop-shadow(0px 1px 2px rgba(0, 0, 0, 0.3));\n",
              "      fill: #FFFFFF;\n",
              "    }\n",
              "  </style>\n",
              "\n",
              "      <script>\n",
              "        const buttonEl =\n",
              "          document.querySelector('#df-ebb97014-ec57-43d2-b195-704063eb33bb button.colab-df-convert');\n",
              "        buttonEl.style.display =\n",
              "          google.colab.kernel.accessAllowed ? 'block' : 'none';\n",
              "\n",
              "        async function convertToInteractive(key) {\n",
              "          const element = document.querySelector('#df-ebb97014-ec57-43d2-b195-704063eb33bb');\n",
              "          const dataTable =\n",
              "            await google.colab.kernel.invokeFunction('convertToInteractive',\n",
              "                                                     [key], {});\n",
              "          if (!dataTable) return;\n",
              "\n",
              "          const docLinkHtml = 'Like what you see? Visit the ' +\n",
              "            '<a target=\"_blank\" href=https://colab.research.google.com/notebooks/data_table.ipynb>data table notebook</a>'\n",
              "            + ' to learn more about interactive tables.';\n",
              "          element.innerHTML = '';\n",
              "          dataTable['output_type'] = 'display_data';\n",
              "          await google.colab.output.renderOutput(dataTable, element);\n",
              "          const docLink = document.createElement('div');\n",
              "          docLink.innerHTML = docLinkHtml;\n",
              "          element.appendChild(docLink);\n",
              "        }\n",
              "      </script>\n",
              "    </div>\n",
              "  </div>\n",
              "  "
            ]
          },
          "metadata": {},
          "execution_count": 75
        }
      ]
    },
    {
      "cell_type": "code",
      "source": [
        "mascData, femData = df[df['Sexo '] == 'Masculino'], df[df['Sexo '] == 'Feminino']"
      ],
      "metadata": {
        "id": "9Ja7sUGX_lVH"
      },
      "execution_count": 51,
      "outputs": []
    },
    {
      "cell_type": "code",
      "source": [
        "mascData = mascData.drop(columns = ['Sexo '])\n",
        "femData = femData.drop(columns = ['Sexo '])"
      ],
      "metadata": {
        "id": "kQBpyHSMBdY9"
      },
      "execution_count": 54,
      "outputs": []
    },
    {
      "cell_type": "code",
      "source": [
        "[alturasMb , pesosMb, idadesMb, atividadesMb] = [\n",
        "    mascData['Altura (em cm)'].values,\n",
        "    mascData['Peso (em kg)'].values,\n",
        "    mascData['Qual a sua idade'].values,\n",
        "    mascData['Pratica atividade física quantas vezes por semana'].values\n",
        "    ]"
      ],
      "metadata": {
        "id": "7MuIW5DbEjRU"
      },
      "execution_count": 104,
      "outputs": []
    },
    {
      "cell_type": "code",
      "source": [
        "def correctHight(h):\n",
        "  hightWithoutVirgle = int(h.replace(',',''))\n",
        "  return hightWithoutVirgle if hightWithoutVirgle < 1000 else int(h.replace('0', ''))\n",
        "\n",
        "inting = lambda arraio : list(map(lambda x:int(x),arraio))"
      ],
      "metadata": {
        "id": "bzcXnq1XIeIC"
      },
      "execution_count": 91,
      "outputs": []
    },
    {
      "cell_type": "code",
      "source": [
        "alturasM = inting(list(map(correctHight,alturasMb)))\n",
        "alturasM[-4] = 180\n",
        "print(alturasM)\n",
        "pesosMb[4] = 78\n",
        "pesosM = inting(pesosMb)\n",
        "print(pesosM)\n",
        "idadesM = inting(idadesMb)\n",
        "print(idadesMb)\n",
        "atividadesM = inting(atividadesMb)"
      ],
      "metadata": {
        "colab": {
          "base_uri": "https://localhost:8080/"
        },
        "id": "eDqgD6u9HENY",
        "outputId": "2ab8dc85-0051-4e8b-e3f5-b87195b446f2"
      },
      "execution_count": 105,
      "outputs": [
        {
          "output_type": "stream",
          "name": "stdout",
          "text": [
            "[175, 177, 182, 166, 173, 173, 177, 180, 184, 171, 174, 161, 171, 173, 178, 180, 183, 178, 178]\n",
            "[76, 69, 82, 67, 78, 59, 85, 110, 70, 88, 80, 60, 77, 74, 70, 76, 95, 72, 63]\n",
            "[18 18 22 19 22 19 20 19 19 51 24 18 21 19 19 19 18 19 19]\n"
          ]
        }
      ]
    },
    {
      "cell_type": "code",
      "source": [
        "mascDf = pd.DataFrame(np.c_[alturasM, pesosM,idadesM,atividadesM], columns=['altura', 'peso', 'idade','atividade'])"
      ],
      "metadata": {
        "id": "_ZpZbT8fHmWU"
      },
      "execution_count": 107,
      "outputs": []
    },
    {
      "cell_type": "code",
      "source": [
        "groupedMascDf = mascDf.groupby(by=['idade']).agg(\n",
        "    altura = ('altura','mean'),\n",
        "    peso = ('peso','mean'),\n",
        "    atividade= ('atividade','mean')\n",
        ")"
      ],
      "metadata": {
        "id": "Q4FGqwYsOB3A"
      },
      "execution_count": 111,
      "outputs": []
    },
    {
      "cell_type": "code",
      "source": [
        "groupedMascDf['altura'].plot(kind = 'hist')"
      ],
      "metadata": {
        "colab": {
          "base_uri": "https://localhost:8080/",
          "height": 285
        },
        "id": "NM6JuGx8RLqE",
        "outputId": "bb334b30-9118-4233-9b78-e57064141fe3"
      },
      "execution_count": 130,
      "outputs": [
        {
          "output_type": "execute_result",
          "data": {
            "text/plain": [
              "<matplotlib.axes._subplots.AxesSubplot at 0x7fb22385afd0>"
            ]
          },
          "metadata": {},
          "execution_count": 130
        },
        {
          "output_type": "display_data",
          "data": {
            "text/plain": [
              "<Figure size 432x288 with 1 Axes>"
            ],
            "image/png": "[encoded data removed]"
          },
          "metadata": {}
        }
      ]
    },
    {
      "cell_type": "code",
      "source": [
        "groupedMascDf['atividade'].plot()"
      ],
      "metadata": {
        "id": "X52AwEgeSoqg"
      },
      "execution_count": null,
      "outputs": []
    },
    {
      "cell_type": "code",
      "source": [
        "groupedMascDf['peso'].plot()"
      ],
      "metadata": {
        "colab": {
          "base_uri": "https://localhost:8080/",
          "height": 302
        },
        "id": "vZC6MWNtSp6W",
        "outputId": "18ce5ba2-472c-45c7-cd02-ebc48b6cc6ea"
      },
      "execution_count": 129,
      "outputs": [
        {
          "output_type": "execute_result",
          "data": {
            "text/plain": [
              "<matplotlib.axes._subplots.AxesSubplot at 0x7fb2238f23d0>"
            ]
          },
          "metadata": {},
          "execution_count": 129
        },
        {
          "output_type": "display_data",
          "data": {
            "text/plain": [
              "<Figure size 432x288 with 1 Axes>"
            ],
            "image/png": "[encoded data removed]"
          },
          "metadata": {}
        }
      ]
    },
    {
      "cell_type": "code",
      "source": [
        "import matplotlib.pyplot as plt\n",
        "import seaborn as sns\n",
        "sns.set_theme()\n",
        "\n",
        "piv = mascDf.pivot('altura','peso', 'idade')\n",
        "\n",
        "# Draw a heatmap with the numeric values in each cell\n",
        "f, ax = plt.subplots(figsize=(9, 6))\n",
        "sns.heatmap(piv, linewidths=.5, ax=ax)"
      ],
      "metadata": {
        "colab": {
          "base_uri": "https://localhost:8080/",
          "height": 411
        },
        "id": "Lfae0ohdLQti",
        "outputId": "776b4e8f-2095-4d50-af93-98db0bbc76d4"
      },
      "execution_count": 131,
      "outputs": [
        {
          "output_type": "execute_result",
          "data": {
            "text/plain": [
              "<matplotlib.axes._subplots.AxesSubplot at 0x7fb2237e8190>"
            ]
          },
          "metadata": {},
          "execution_count": 131
        },
        {
          "output_type": "display_data",
          "data": {
            "text/plain": [
              "<Figure size 648x432 with 2 Axes>"
            ],
            "image/png": "[encoded data removed]"
          },
          "metadata": {}
        }
      ]
    },
    {
      "cell_type": "code",
      "source": [],
      "metadata": {
        "id": "pxePzn3uLiGD"
      },
      "execution_count": null,
      "outputs": []
    }
  ]
}