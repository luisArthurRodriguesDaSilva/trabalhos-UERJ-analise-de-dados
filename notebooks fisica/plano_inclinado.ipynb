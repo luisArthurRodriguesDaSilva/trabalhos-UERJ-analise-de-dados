{
  "nbformat": 4,
  "nbformat_minor": 0,
  "metadata": {
    "colab": {
      "provenance": [],
      "mount_file_id": "https://github.com/luisArthurRodriguesDaSilva/trabalho-UERJ-analise-de-dados/blob/main/experimento_queda_livre.ipynb",
      "authorship_tag": "ABX9TyO5Ck/J+gtu7+IxoOA7rKqQ",
      "include_colab_link": true
    },
    "kernelspec": {
      "name": "python3",
      "display_name": "Python 3"
    },
    "language_info": {
      "name": "python"
    }
  },
  "cells": [
    {
      "cell_type": "markdown",
      "metadata": {
        "id": "view-in-github",
        "colab_type": "text"
      },
      "source": [
        "<a href=\"https://colab.research.google.com/github/luisArthurRodriguesDaSilva/trabalho-UERJ-analise-de-dados/blob/main/plano_inclinado.ipynb\" target=\"_parent\"><img src=\"https://colab.research.google.com/assets/colab-badge.svg\" alt=\"Open In Colab\"/></a>"
      ]
    },
    {
      "cell_type": "code",
      "source": [
        "import numpy as np\n",
        "import pandas as pd\n",
        "import matplotlib.pyplot as plt"
      ],
      "metadata": {
        "id": "KY05x25vzjv1"
      },
      "execution_count": 2,
      "outputs": []
    },
    {
      "cell_type": "code",
      "execution_count": 6,
      "metadata": {
        "id": "6d_LEfgswk_W"
      },
      "outputs": [],
      "source": [
        "data = (\n",
        "    [0.71,0.709,0.706,0.709,0.711],\n",
        "    [0.892,0.890,0.891,0.893,0.894],\n",
        "    [1.044,1.04,1.039,1.043,1.042],\n",
        "    [1.215,1.17,1.218,1.228,1.23],\n",
        "    [1.364,1.365,1.367,1.37,1.362],\n",
        "    [1.487,1.48,1.485,1.488,1.487],\n",
        "    [1.619,1.620,1.629,1.618,1.619],\n",
        "    [1.729,1.731,1.739,1.729,1.73],\n",
        "    [1.841,1.842,1.849,1.848,1.843],\n",
        "    [1.956,1.958,1.949,1.959,1.957]\n",
        ")"
      ]
    },
    {
      "cell_type": "code",
      "source": [
        "df = pd.DataFrame(np.c_[data], columns=['30cm','40cm','50cm','60cm','70cm','80cm','90cm','100cm','110cm','120cm'])"
      ],
      "metadata": {
        "id": "d9AlrGzYxXV3"
      },
      "execution_count": 7,
      "outputs": []
    },
    {
      "cell_type": "code",
      "source": [
        "def getVariancia(arraio): \n",
        "  media = arraio.mean()\n",
        "  diferencas = list(map(lambda val: (val-media)**2,arraio.values))\n",
        "  varianca = np.sum(diferencas)/len(arraio)\n",
        "  return varianca"
      ],
      "metadata": {
        "id": "CZKpFnYPPBmM"
      },
      "execution_count": 13,
      "outputs": []
    },
    {
      "cell_type": "code",
      "source": [
        "def getDesvioPadrao(arraio):\n",
        "  variancia = getVariancia(arraio)\n",
        "  return variancia**(1/2)\n",
        "\n",
        "#print(np.std(df['no cronometro']))\n"
      ],
      "metadata": {
        "id": "LqWfuItUQlvv"
      },
      "execution_count": 12,
      "outputs": []
    },
    {
      "cell_type": "code",
      "source": [
        "def getErroInstrumental(arraio):\n",
        "  desv = getDesvioPadrao(arraio)\n",
        "  return desv / (len(arraio)**(1/2))"
      ],
      "metadata": {
        "id": "sP2X_nbpHsMk"
      },
      "execution_count": 10,
      "outputs": []
    },
    {
      "cell_type": "code",
      "source": [
        "for key in df.keys():\n",
        "  maximo , minimo , media = round(df[key].max(),3) , round(df[key].min(),3) ,  round(df[key].mean(),3)\n",
        "  abr = round(maximo - minimo,3)\n",
        "  desvioPd = round(getDesvioPadrao(df[key]),4)\n",
        "  erroInstrumental = round(getErroInstrumental(df[key]),3)\n",
        "  print(key)\n",
        "  print(f'maximo {key} : {maximo}')\n",
        "  print(f'minimo {key} : {minimo}')\n",
        "  print(f'media {key} : {media}')\n",
        "  print(f'abrangencia {key} : {abr}')\n",
        "  print(f'desvio padrão: {desvioPd}')\n",
        "  print(f'erro instrumental: {erroInstrumental}')\n",
        "  print(f'estimativa: {media} ± {erroInstrumental}\\n')"
      ],
      "metadata": {
        "colab": {
          "base_uri": "https://localhost:8080/"
        },
        "id": "sl0GueESbCZU",
        "outputId": "ead2d524-ac6f-449d-f38e-0c32b61858a6"
      },
      "execution_count": 75,
      "outputs": [
        {
          "output_type": "stream",
          "name": "stdout",
          "text": [
            "30cm\n",
            "maximo 30cm : 0.711\n",
            "minimo 30cm : 0.706\n",
            "media 30cm : 0.709\n",
            "abrangencia 30cm : 0.005\n",
            "desvio padrão: 0.0017\n",
            "erro instrumental: 0.001\n",
            "estimativa: 0.709 ± 0.001\n",
            "\n",
            "40cm\n",
            "maximo 40cm : 0.894\n",
            "minimo 40cm : 0.89\n",
            "media 40cm : 0.892\n",
            "abrangencia 40cm : 0.004\n",
            "desvio padrão: 0.0014\n",
            "erro instrumental: 0.001\n",
            "estimativa: 0.892 ± 0.001\n",
            "\n",
            "50cm\n",
            "maximo 50cm : 1.044\n",
            "minimo 50cm : 1.039\n",
            "media 50cm : 1.042\n",
            "abrangencia 50cm : 0.005\n",
            "desvio padrão: 0.0019\n",
            "erro instrumental: 0.001\n",
            "estimativa: 1.042 ± 0.001\n",
            "\n",
            "60cm\n",
            "maximo 60cm : 1.23\n",
            "minimo 60cm : 1.17\n",
            "media 60cm : 1.212\n",
            "abrangencia 60cm : 0.06\n",
            "desvio padrão: 0.0219\n",
            "erro instrumental: 0.01\n",
            "estimativa: 1.212 ± 0.01\n",
            "\n",
            "70cm\n",
            "maximo 70cm : 1.37\n",
            "minimo 70cm : 1.362\n",
            "media 70cm : 1.366\n",
            "abrangencia 70cm : 0.008\n",
            "desvio padrão: 0.0027\n",
            "erro instrumental: 0.001\n",
            "estimativa: 1.366 ± 0.001\n",
            "\n",
            "80cm\n",
            "maximo 80cm : 1.488\n",
            "minimo 80cm : 1.48\n",
            "media 80cm : 1.485\n",
            "abrangencia 80cm : 0.008\n",
            "desvio padrão: 0.0029\n",
            "erro instrumental: 0.001\n",
            "estimativa: 1.485 ± 0.001\n",
            "\n",
            "90cm\n",
            "maximo 90cm : 1.629\n",
            "minimo 90cm : 1.618\n",
            "media 90cm : 1.621\n",
            "abrangencia 90cm : 0.011\n",
            "desvio padrão: 0.004\n",
            "erro instrumental: 0.002\n",
            "estimativa: 1.621 ± 0.002\n",
            "\n",
            "100cm\n",
            "maximo 100cm : 1.739\n",
            "minimo 100cm : 1.729\n",
            "media 100cm : 1.732\n",
            "abrangencia 100cm : 0.01\n",
            "desvio padrão: 0.0038\n",
            "erro instrumental: 0.002\n",
            "estimativa: 1.732 ± 0.002\n",
            "\n",
            "110cm\n",
            "maximo 110cm : 1.849\n",
            "minimo 110cm : 1.841\n",
            "media 110cm : 1.845\n",
            "abrangencia 110cm : 0.008\n",
            "desvio padrão: 0.0033\n",
            "erro instrumental: 0.001\n",
            "estimativa: 1.845 ± 0.001\n",
            "\n",
            "120cm\n",
            "maximo 120cm : 1.959\n",
            "minimo 120cm : 1.949\n",
            "media 120cm : 1.956\n",
            "abrangencia 120cm : 0.01\n",
            "desvio padrão: 0.0035\n",
            "erro instrumental: 0.002\n",
            "estimativa: 1.956 ± 0.002\n",
            "\n"
          ]
        }
      ]
    },
    {
      "cell_type": "code",
      "source": [
        "obj = {}\n",
        "obj['distância'] = []\n",
        "obj['máximo'] = []\n",
        "obj['mínimo'] = []\n",
        "obj['media'] = []\n",
        "obj['abrangência'] = []\n",
        "obj['desvio padrão'] = []\n",
        "obj['erro instrumental'] = []\n",
        "obj['estimativa'] = []\n",
        "\n",
        "for key in df.keys():\n",
        "  maximo , minimo , media = round(df[key].max(),3) , round(df[key].min(),3) ,  round(df[key].mean(),3)\n",
        "  abr = round(maximo - minimo,3)\n",
        "  desvioPd = round(getDesvioPadrao(df[key]),4)\n",
        "  erroInstrumental = round(getErroInstrumental(df[key]),3)\n",
        "  estimativa = f'{media} ± {erroInstrumental}'\n",
        "  obj['distância'].append(key)\n",
        "  obj['máximo'].append(maximo)\n",
        "  obj['mínimo'].append(minimo)\n",
        "  obj['media'].append(media)\n",
        "  obj['abrangência'].append(abr)\n",
        "  obj['desvio padrão'].append(desvioPd)\n",
        "  obj['erro instrumental'].append(erroInstrumental)\n",
        "  obj['estimativa'].append(estimativa)\n",
        "\n",
        "objDf = pd.DataFrame(obj)\n",
        "objDf.to_html()"
      ],
      "metadata": {
        "id": "rCN0EVlELaBX"
      },
      "execution_count": null,
      "outputs": []
    },
    {
      "cell_type": "code",
      "source": [
        "df.values[0]"
      ],
      "metadata": {
        "colab": {
          "base_uri": "https://localhost:8080/"
        },
        "id": "d67F8-PtqCjj",
        "outputId": "3895946d-1b50-40e1-ab2d-832792274b0e"
      },
      "execution_count": 34,
      "outputs": [
        {
          "output_type": "execute_result",
          "data": {
            "text/plain": [
              "array([0.71 , 0.892, 1.044, 1.215, 1.364, 1.487, 1.619, 1.729, 1.841,\n",
              "       1.956])"
            ]
          },
          "metadata": {},
          "execution_count": 34
        }
      ]
    },
    {
      "cell_type": "code",
      "source": [
        "fig, ax = plt.subplots()\n",
        "x= lambda n : list(map(lambda x: 10*n + 30,range(len(data[0]))))\n",
        "for i in range(len(data)):\n",
        "  ax.scatter(x=x(i) ,y= data[i])\n",
        "\n",
        "base = list(map(lambda x: 30 + (10*x),range(len(data))))\n",
        "counts = list(map(lambda x : np.max(x),data))\n",
        "ax.plot(base,counts,color='y')\n",
        "fig.set_size_inches(13,7)\n",
        "ax.set_ylabel('tempo levado em s')\n",
        "ax.set_xlabel('distancia em cm')\n",
        "fig.patch.set_facecolor('xkcd:white')\n",
        "fig.show()"
      ],
      "metadata": {
        "colab": {
          "base_uri": "https://localhost:8080/",
          "height": 442
        },
        "id": "J8GdfMpOoeQq",
        "outputId": "380325f6-ec2f-4b0f-eaeb-2a4a30cfe6b7"
      },
      "execution_count": 74,
      "outputs": [
        {
          "output_type": "display_data",
          "data": {
            "text/plain": [
              "<Figure size 936x504 with 1 Axes>"
            ],
            "image/png": "[encoded data removed]"
          },
          "metadata": {}
        }
      ]
    },
    {
      "cell_type": "code",
      "source": [],
      "metadata": {
        "id": "94Y0qpLpp3AW"
      },
      "execution_count": null,
      "outputs": []
    }
  ]
}