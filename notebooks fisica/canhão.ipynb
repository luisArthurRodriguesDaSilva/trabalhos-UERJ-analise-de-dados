{
  "nbformat": 4,
  "nbformat_minor": 0,
  "metadata": {
    "colab": {
      "provenance": [],
      "mount_file_id": "https://github.com/luisArthurRodriguesDaSilva/trabalho-UERJ-analise-de-dados/blob/main/experimento_queda_livre.ipynb",
      "authorship_tag": "ABX9TyPFvV5UkoJs4CZWWKqAynh9",
      "include_colab_link": true
    },
    "kernelspec": {
      "name": "python3",
      "display_name": "Python 3"
    },
    "language_info": {
      "name": "python"
    }
  },
  "cells": [
    {
      "cell_type": "markdown",
      "metadata": {
        "id": "view-in-github",
        "colab_type": "text"
      },
      "source": [
        "<a href=\"https://colab.research.google.com/github/luisArthurRodriguesDaSilva/trabalhos-UERJ-analise-de-dados/blob/main/notebooks%20fisica/canh%C3%A3o.ipynb\" target=\"_parent\"><img src=\"https://colab.research.google.com/assets/colab-badge.svg\" alt=\"Open In Colab\"/></a>"
      ]
    },
    {
      "cell_type": "code",
      "source": [
        "import numpy as np\n",
        "import pandas as pd\n",
        "import matplotlib.pyplot as plt"
      ],
      "metadata": {
        "id": "KY05x25vzjv1"
      },
      "execution_count": 5,
      "outputs": []
    },
    {
      "cell_type": "code",
      "execution_count": 6,
      "metadata": {
        "id": "6d_LEfgswk_W"
      },
      "outputs": [],
      "source": [
        "distB = [1.595,1.63,1.635,1.565,1.53,1.152]\n",
        "angulos = ['30°','40°','50°','60°','70°','80°']\n",
        "dataC = [\n",
        "    [8.5,7.2,7.5,7.3,0.1],\n",
        "    [7  ,7.2,7.4,0.2,4.7],\n",
        "    [3.5,3.2,5.3,5.5,3],\n",
        "    [3.5,3.7,4.7,10,4.6],\n",
        "    [2.6,5.5,4.7,4.2,6.1],\n",
        "    [13.2,13.3,15.2,15.7,6.2]\n",
        "]\n",
        "\n",
        "data= []\n",
        "\n",
        "for i, e in enumerate(distB):\n",
        "  data.append(list(map(lambda x: x/100 + e,dataC[i])))"
      ]
    },
    {
      "cell_type": "code",
      "source": [
        "data = tuple(map(tuple, data))\n",
        "data"
      ],
      "metadata": {
        "id": "Vye7xnlWMfZr",
        "outputId": "efb74287-8d6f-4d23-ed5b-c86cb5b15bd0",
        "colab": {
          "base_uri": "https://localhost:8080/"
        }
      },
      "execution_count": 7,
      "outputs": [
        {
          "output_type": "execute_result",
          "data": {
            "text/plain": [
              "((1.68, 1.667, 1.67, 1.668, 1.5959999999999999),\n",
              " (1.7, 1.702, 1.704, 1.632, 1.6769999999999998),\n",
              " (1.67, 1.667, 1.688, 1.69, 1.665),\n",
              " (1.5999999999999999, 1.6019999999999999, 1.6119999999999999, 1.665, 1.611),\n",
              " (1.556, 1.585, 1.577, 1.572, 1.591),\n",
              " (1.2839999999999998, 1.285, 1.3039999999999998, 1.309, 1.214))"
            ]
          },
          "metadata": {},
          "execution_count": 7
        }
      ]
    },
    {
      "cell_type": "code",
      "source": [
        "df = pd.DataFrame(np.c_[data], columns=angulos)\n",
        "df.to_html()"
      ],
      "metadata": {
        "id": "d9AlrGzYxXV3",
        "outputId": "8e93008e-326e-4c66-f83b-9c712c803a0e",
        "colab": {
          "base_uri": "https://localhost:8080/",
          "height": 140
        }
      },
      "execution_count": 8,
      "outputs": [
        {
          "output_type": "execute_result",
          "data": {
            "text/plain": [
              "'<table border=\"1\" class=\"dataframe\">\\n  <thead>\\n    <tr style=\"text-align: right;\">\\n      <th></th>\\n      <th>30°</th>\\n      <th>40°</th>\\n      <th>50°</th>\\n      <th>60°</th>\\n      <th>70°</th>\\n      <th>80°</th>\\n    </tr>\\n  </thead>\\n  <tbody>\\n    <tr>\\n      <th>0</th>\\n      <td>1.680</td>\\n      <td>1.700</td>\\n      <td>1.670</td>\\n      <td>1.600</td>\\n      <td>1.556</td>\\n      <td>1.284</td>\\n    </tr>\\n    <tr>\\n      <th>1</th>\\n      <td>1.667</td>\\n      <td>1.702</td>\\n      <td>1.667</td>\\n      <td>1.602</td>\\n      <td>1.585</td>\\n      <td>1.285</td>\\n    </tr>\\n    <tr>\\n      <th>2</th>\\n      <td>1.670</td>\\n      <td>1.704</td>\\n      <td>1.688</td>\\n      <td>1.612</td>\\n      <td>1.577</td>\\n      <td>1.304</td>\\n    </tr>\\n    <tr>\\n      <th>3</th>\\n      <td>1.668</td>\\n      <td>1.632</td>\\n      <td>1.690</td>\\n      <td>1.665</td>\\n      <td>1.572</td>\\n      <td>1.309</td>\\n    </tr>\\n    <tr>\\n      <th>4</th>\\n      <td>1.596</td>\\n      <td>1.677</td>\\n      <td>1.665</td>\\n      <td>1.611</td>\\n      <td>1.591</td>\\n      <td>1.214</td>\\n    </tr>\\n  </tbody>\\n</table>'"
            ],
            "application/vnd.google.colaboratory.intrinsic+json": {
              "type": "string"
            }
          },
          "metadata": {},
          "execution_count": 8
        }
      ]
    },
    {
      "cell_type": "code",
      "source": [
        "def getVariancia(arraio): \n",
        "  media = arraio.mean()\n",
        "  diferencas = list(map(lambda val: (val-media)**2,arraio.values))\n",
        "  varianca = np.sum(diferencas)/len(arraio)\n",
        "  return varianca"
      ],
      "metadata": {
        "id": "CZKpFnYPPBmM"
      },
      "execution_count": 9,
      "outputs": []
    },
    {
      "cell_type": "code",
      "source": [
        "def getDesvioPadrao(arraio):\n",
        "  variancia = getVariancia(arraio)\n",
        "  return variancia**(1/2)\n",
        "\n",
        "#print(np.std(df['no cronometro']))\n"
      ],
      "metadata": {
        "id": "LqWfuItUQlvv"
      },
      "execution_count": 10,
      "outputs": []
    },
    {
      "cell_type": "code",
      "source": [
        "def getErroInstrumental(arraio):\n",
        "  desv = getDesvioPadrao(arraio)\n",
        "  return desv / (len(arraio)**(1/2))"
      ],
      "metadata": {
        "id": "sP2X_nbpHsMk"
      },
      "execution_count": 11,
      "outputs": []
    },
    {
      "cell_type": "code",
      "source": [
        "for key in df.keys():\n",
        "  maximo , minimo , media = round(df[key].max(),3) , round(df[key].min(),3) ,  round(df[key].mean(),3)\n",
        "  abr = round(maximo - minimo,3)\n",
        "  desvioPd = round(getDesvioPadrao(df[key]),4)\n",
        "  erroInstrumental = round(getErroInstrumental(df[key]),3)\n",
        "  print(key)\n",
        "  print(f'maximo {key} : {maximo}')\n",
        "  print(f'minimo {key} : {minimo}')\n",
        "  print(f'media {key} : {media}')\n",
        "  print(f'abrangencia {key} : {abr}')\n",
        "  print(f'desvio padrão: {desvioPd}')\n",
        "  print(f'erro instrumental: {erroInstrumental}')\n",
        "  print(f'estimativa: {media} ± {erroInstrumental}\\n')"
      ],
      "metadata": {
        "colab": {
          "base_uri": "https://localhost:8080/"
        },
        "id": "sl0GueESbCZU",
        "outputId": "9edc445a-42a9-43e5-b5fc-256a3f81662c"
      },
      "execution_count": 12,
      "outputs": [
        {
          "output_type": "stream",
          "name": "stdout",
          "text": [
            "30°\n",
            "maximo 30° : 1.68\n",
            "minimo 30° : 1.596\n",
            "media 30° : 1.656\n",
            "abrangencia 30° : 0.084\n",
            "desvio padrão: 0.0305\n",
            "erro instrumental: 0.014\n",
            "estimativa: 1.656 ± 0.014\n",
            "\n",
            "40°\n",
            "maximo 40° : 1.704\n",
            "minimo 40° : 1.632\n",
            "media 40° : 1.683\n",
            "abrangencia 40° : 0.072\n",
            "desvio padrão: 0.0273\n",
            "erro instrumental: 0.012\n",
            "estimativa: 1.683 ± 0.012\n",
            "\n",
            "50°\n",
            "maximo 50° : 1.69\n",
            "minimo 50° : 1.665\n",
            "media 50° : 1.676\n",
            "abrangencia 50° : 0.025\n",
            "desvio padrão: 0.0108\n",
            "erro instrumental: 0.005\n",
            "estimativa: 1.676 ± 0.005\n",
            "\n",
            "60°\n",
            "maximo 60° : 1.665\n",
            "minimo 60° : 1.6\n",
            "media 60° : 1.618\n",
            "abrangencia 60° : 0.065\n",
            "desvio padrão: 0.024\n",
            "erro instrumental: 0.011\n",
            "estimativa: 1.618 ± 0.011\n",
            "\n",
            "70°\n",
            "maximo 70° : 1.591\n",
            "minimo 70° : 1.556\n",
            "media 70° : 1.576\n",
            "abrangencia 70° : 0.035\n",
            "desvio padrão: 0.012\n",
            "erro instrumental: 0.005\n",
            "estimativa: 1.576 ± 0.005\n",
            "\n",
            "80°\n",
            "maximo 80° : 1.309\n",
            "minimo 80° : 1.214\n",
            "media 80° : 1.279\n",
            "abrangencia 80° : 0.095\n",
            "desvio padrão: 0.0341\n",
            "erro instrumental: 0.015\n",
            "estimativa: 1.279 ± 0.015\n",
            "\n"
          ]
        }
      ]
    },
    {
      "cell_type": "code",
      "source": [
        "obj = {}\n",
        "obj['ângulo'] = []\n",
        "obj['máximo'] = []\n",
        "obj['mínimo'] = []\n",
        "obj['media'] = []\n",
        "obj['abrangência'] = []\n",
        "obj['desvio padrão'] = []\n",
        "obj['erro instrumental'] = []\n",
        "obj['estimativa'] = []\n",
        "\n",
        "for key in df.keys():\n",
        "  maximo , minimo , media = round(df[key].max(),3) , round(df[key].min(),3) ,  round(df[key].mean(),3)\n",
        "  abr = round(maximo - minimo,3)\n",
        "  desvioPd = round(getDesvioPadrao(df[key]),4)\n",
        "  erroInstrumental = round(getErroInstrumental(df[key]),3)\n",
        "  estimativa = f'{media} ± {erroInstrumental}'\n",
        "  obj['ângulo'].append(key)\n",
        "  obj['máximo'].append(maximo)\n",
        "  obj['mínimo'].append(minimo)\n",
        "  obj['media'].append(media)\n",
        "  obj['abrangência'].append(abr)\n",
        "  obj['desvio padrão'].append(desvioPd)\n",
        "  obj['erro instrumental'].append(erroInstrumental)\n",
        "  obj['estimativa'].append(estimativa)\n",
        "\n",
        "objDf = pd.DataFrame(obj)\n",
        "objDf.to_html()"
      ],
      "metadata": {
        "id": "rCN0EVlELaBX",
        "outputId": "ff6ba0e3-7085-443d-9e3e-6bc0394ee04e",
        "colab": {
          "base_uri": "https://localhost:8080/",
          "height": 140
        }
      },
      "execution_count": 13,
      "outputs": [
        {
          "output_type": "execute_result",
          "data": {
            "text/plain": [
              "'<table border=\"1\" class=\"dataframe\">\\n  <thead>\\n    <tr style=\"text-align: right;\">\\n      <th></th>\\n      <th>ângulo</th>\\n      <th>máximo</th>\\n      <th>mínimo</th>\\n      <th>media</th>\\n      <th>abrangência</th>\\n      <th>desvio padrão</th>\\n      <th>erro instrumental</th>\\n      <th>estimativa</th>\\n    </tr>\\n  </thead>\\n  <tbody>\\n    <tr>\\n      <th>0</th>\\n      <td>30°</td>\\n      <td>1.680</td>\\n      <td>1.596</td>\\n      <td>1.656</td>\\n      <td>0.084</td>\\n      <td>0.0305</td>\\n      <td>0.014</td>\\n      <td>1.656 ± 0.014</td>\\n    </tr>\\n    <tr>\\n      <th>1</th>\\n      <td>40°</td>\\n      <td>1.704</td>\\n      <td>1.632</td>\\n      <td>1.683</td>\\n      <td>0.072</td>\\n      <td>0.0273</td>\\n      <td>0.012</td>\\n      <td>1.683 ± 0.012</td>\\n    </tr>\\n    <tr>\\n      <th>2</th>\\n      <td>50°</td>\\n      <td>1.690</td>\\n      <td>1.665</td>\\n      <td>1.676</td>\\n      <td>0.025</td>\\n      <td>0.0108</td>\\n      <td>0.005</td>\\n      <td>1.676 ± 0.005</td>\\n    </tr>\\n    <tr>\\n      <th>3</th>\\n      <td>60°</td>\\n      <td>1.665</td>\\n      <td>1.600</td>\\n      <td>1.618</td>\\n      <td>0.065</td>\\n      <td>0.0240</td>\\n      <td>0.011</td>\\n      <td>1.618 ± 0.011</td>\\n    </tr>\\n    <tr>\\n      <th>4</th>\\n      <td>70°</td>\\n      <td>1.591</td>\\n      <td>1.556</td>\\n      <td>1.576</td>\\n      <td>0.035</td>\\n      <td>0.0120</td>\\n      <td>0.005</td>\\n      <td>1.576 ± 0.005</td>\\n    </tr>\\n    <tr>\\n      <th>5</th>\\n      <td>80°</td>\\n      <td>1.309</td>\\n      <td>1.214</td>\\n      <td>1.279</td>\\n      <td>0.095</td>\\n      <td>0.0341</td>\\n      <td>0.015</td>\\n      <td>1.279 ± 0.015</td>\\n    </tr>\\n  </tbody>\\n</table>'"
            ],
            "application/vnd.google.colaboratory.intrinsic+json": {
              "type": "string"
            }
          },
          "metadata": {},
          "execution_count": 13
        }
      ]
    },
    {
      "cell_type": "code",
      "source": [
        "df.values[0]"
      ],
      "metadata": {
        "colab": {
          "base_uri": "https://localhost:8080/"
        },
        "id": "d67F8-PtqCjj",
        "outputId": "1abddf19-9fc5-41c5-ee7c-a9c075bc88ce"
      },
      "execution_count": 14,
      "outputs": [
        {
          "output_type": "execute_result",
          "data": {
            "text/plain": [
              "array([1.68 , 1.7  , 1.67 , 1.6  , 1.556, 1.284])"
            ]
          },
          "metadata": {},
          "execution_count": 14
        }
      ]
    },
    {
      "cell_type": "code",
      "source": [
        "fig, ax = plt.subplots()\n",
        "x= lambda n : list(map(lambda x: 10*n + 30,range(len(data[0]))))\n",
        "for i in range(len(data)):\n",
        "  ax.scatter(x=x(i) ,y= data[i])\n",
        "\n",
        "base = np.array(list(map(lambda x: 30 + (10*x),range(len(data)))))\n",
        "counts = np.array(list(map(lambda x : np.mean(x),data)))\n",
        "ax.plot(base,counts,color='y')\n",
        "fig.set_size_inches(13,7)\n",
        "ax.set_ylabel('distancia percorrida em metros')\n",
        "ax.set_xlabel('distancia em °')\n",
        "fig.patch.set_facecolor('xkcd:white')\n",
        "fig.show()"
      ],
      "metadata": {
        "colab": {
          "base_uri": "https://localhost:8080/",
          "height": 442
        },
        "id": "J8GdfMpOoeQq",
        "outputId": "cc312b6c-3358-4ef1-d0c3-f7e4614de100"
      },
      "execution_count": 47,
      "outputs": [
        {
          "output_type": "display_data",
          "data": {
            "text/plain": [
              "<Figure size 936x504 with 1 Axes>"
            ],
            "image/png": "[encoded data removed]"
          },
          "metadata": {}
        }
      ]
    },
    {
      "cell_type": "code",
      "source": [
        "\n",
        "from scipy.interpolate import make_interp_spline\n",
        "X_Y_Spline = make_interp_spline(base, counts)\n",
        "X_ = np.linspace(base.min(), base.max(), 500)\n",
        "Y_ = X_Y_Spline(X_)"
      ],
      "metadata": {
        "id": "B8cdHTaMecmM"
      },
      "execution_count": 50,
      "outputs": []
    },
    {
      "cell_type": "code",
      "source": [
        "import seaborn as sns\n",
        "\n",
        "sns.regplot(\n",
        "    x=base,\n",
        "    y=counts,\n",
        "    ci=78,\n",
        "\n",
        "    # Cor dos pontos\n",
        "    scatter_kws={\n",
        "        'color' : 'blue',\n",
        "        's' : 80,\n",
        "        'alpha' : 1\n",
        "    },\n",
        "\n",
        "    # Cor da Linha\n",
        "    line_kws={\n",
        "        'color' : 'green',\n",
        "        'alpha' : 0.2,\n",
        "        'lw' : 2\n",
        "    },\n",
        "\n",
        ")\n",
        "\n",
        "x= lambda n : list(map(lambda x: 10*n + 30,range(len(data[0]))))\n",
        "for i in range(len(data)):\n",
        "  plt.scatter(x=x(i) ,y= data[i])\n",
        "\n",
        "plt.plot(X_,Y_,color='y')\n",
        "fig.set_size_inches(13,7)\n",
        "plt.title('regressão angulo X metros')\n",
        "fig.patch.set_facecolor('xkcd:white')"
      ],
      "metadata": {
        "id": "6mCpKtfubBSu",
        "outputId": "7b0c3b34-2bd5-4f02-cc8b-8725d7325603",
        "colab": {
          "base_uri": "https://localhost:8080/",
          "height": 281
        }
      },
      "execution_count": 53,
      "outputs": [
        {
          "output_type": "display_data",
          "data": {
            "text/plain": [
              "<Figure size 432x288 with 1 Axes>"
            ],
            "image/png": "[encoded data removed]"
          },
          "metadata": {
            "needs_background": "light"
          }
        }
      ]
    }
  ]
}