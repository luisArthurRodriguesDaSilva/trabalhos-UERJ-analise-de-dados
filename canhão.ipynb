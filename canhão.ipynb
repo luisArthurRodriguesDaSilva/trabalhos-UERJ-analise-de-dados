{
  "nbformat": 4,
  "nbformat_minor": 0,
  "metadata": {
    "colab": {
      "provenance": [],
      "mount_file_id": "https://github.com/luisArthurRodriguesDaSilva/trabalho-UERJ-analise-de-dados/blob/main/experimento_queda_livre.ipynb",
      "authorship_tag": "ABX9TyMWm8ycCnBowbMI+1bkdX2H",
      "include_colab_link": true
    },
    "kernelspec": {
      "name": "python3",
      "display_name": "Python 3"
    },
    "language_info": {
      "name": "python"
    }
  },
  "cells": [
    {
      "cell_type": "markdown",
      "metadata": {
        "id": "view-in-github",
        "colab_type": "text"
      },
      "source": [
        "<a href=\"https://colab.research.google.com/github/luisArthurRodriguesDaSilva/trabalho-UERJ-analise-de-dados/blob/main/canh%C3%A3o.ipynb\" target=\"_parent\"><img src=\"https://colab.research.google.com/assets/colab-badge.svg\" alt=\"Open In Colab\"/></a>"
      ]
    },
    {
      "cell_type": "code",
      "source": [
        "import numpy as np\n",
        "import pandas as pd\n",
        "import matplotlib.pyplot as plt"
      ],
      "metadata": {
        "id": "KY05x25vzjv1"
      },
      "execution_count": 1,
      "outputs": []
    },
    {
      "cell_type": "code",
      "execution_count": 2,
      "metadata": {
        "id": "6d_LEfgswk_W"
      },
      "outputs": [],
      "source": [
        "distB = [1.595,1.63,1.635,1.565,1.53,1.152]\n",
        "angulos = ['30°','40°','50°','60°','70°','80°']\n",
        "dataC = [\n",
        "    [8.5,7.2,7.5,7.3,0.1],\n",
        "    [7  ,7.2,7.4,0.2,4.7],\n",
        "    [3.5,3.2,5.3,5.5,3],\n",
        "    [3.5,3.7,4.7,10,4.6],\n",
        "    [2.6,5.5,4.7,4.2,6.1],\n",
        "    [13.2,13.3,15.2,15.7,6.2]\n",
        "]\n",
        "\n",
        "data= []\n",
        "\n",
        "for i, e in enumerate(distB):\n",
        "  data.append(list(map(lambda x: x/100 + e,dataC[i])))"
      ]
    },
    {
      "cell_type": "code",
      "source": [
        "data = tuple(map(tuple, data))\n",
        "data"
      ],
      "metadata": {
        "id": "Vye7xnlWMfZr",
        "outputId": "ef3bacdd-aa2e-433b-ee52-2b6cb7f3918c",
        "colab": {
          "base_uri": "https://localhost:8080/"
        }
      },
      "execution_count": 3,
      "outputs": [
        {
          "output_type": "execute_result",
          "data": {
            "text/plain": [
              "((1.68, 1.667, 1.67, 1.668, 1.5959999999999999),\n",
              " (1.7, 1.702, 1.704, 1.632, 1.6769999999999998),\n",
              " (1.67, 1.667, 1.688, 1.69, 1.665),\n",
              " (1.5999999999999999, 1.6019999999999999, 1.6119999999999999, 1.665, 1.611),\n",
              " (1.556, 1.585, 1.577, 1.572, 1.591),\n",
              " (1.2839999999999998, 1.285, 1.3039999999999998, 1.309, 1.214))"
            ]
          },
          "metadata": {},
          "execution_count": 3
        }
      ]
    },
    {
      "cell_type": "code",
      "source": [
        "df = pd.DataFrame(np.c_[data], columns=angulos)\n",
        "df.to_html()"
      ],
      "metadata": {
        "id": "d9AlrGzYxXV3"
      },
      "execution_count": null,
      "outputs": []
    },
    {
      "cell_type": "code",
      "source": [
        "def getVariancia(arraio): \n",
        "  media = arraio.mean()\n",
        "  diferencas = list(map(lambda val: (val-media)**2,arraio.values))\n",
        "  varianca = np.sum(diferencas)/len(arraio)\n",
        "  return varianca"
      ],
      "metadata": {
        "id": "CZKpFnYPPBmM"
      },
      "execution_count": 5,
      "outputs": []
    },
    {
      "cell_type": "code",
      "source": [
        "def getDesvioPadrao(arraio):\n",
        "  variancia = getVariancia(arraio)\n",
        "  return variancia**(1/2)\n",
        "\n",
        "#print(np.std(df['no cronometro']))\n"
      ],
      "metadata": {
        "id": "LqWfuItUQlvv"
      },
      "execution_count": 6,
      "outputs": []
    },
    {
      "cell_type": "code",
      "source": [
        "def getErroInstrumental(arraio):\n",
        "  desv = getDesvioPadrao(arraio)\n",
        "  return desv / (len(arraio)**(1/2))"
      ],
      "metadata": {
        "id": "sP2X_nbpHsMk"
      },
      "execution_count": 7,
      "outputs": []
    },
    {
      "cell_type": "code",
      "source": [
        "for key in df.keys():\n",
        "  maximo , minimo , media = round(df[key].max(),3) , round(df[key].min(),3) ,  round(df[key].mean(),3)\n",
        "  abr = round(maximo - minimo,3)\n",
        "  desvioPd = round(getDesvioPadrao(df[key]),4)\n",
        "  erroInstrumental = round(getErroInstrumental(df[key]),3)\n",
        "  print(key)\n",
        "  print(f'maximo {key} : {maximo}')\n",
        "  print(f'minimo {key} : {minimo}')\n",
        "  print(f'media {key} : {media}')\n",
        "  print(f'abrangencia {key} : {abr}')\n",
        "  print(f'desvio padrão: {desvioPd}')\n",
        "  print(f'erro instrumental: {erroInstrumental}')\n",
        "  print(f'estimativa: {media} ± {erroInstrumental}\\n')"
      ],
      "metadata": {
        "colab": {
          "base_uri": "https://localhost:8080/"
        },
        "id": "sl0GueESbCZU",
        "outputId": "46ab08c6-be60-4a2b-cf4f-6df6c3ac47bf"
      },
      "execution_count": 8,
      "outputs": [
        {
          "output_type": "stream",
          "name": "stdout",
          "text": [
            "30°\n",
            "maximo 30° : 1.68\n",
            "minimo 30° : 1.596\n",
            "media 30° : 1.656\n",
            "abrangencia 30° : 0.084\n",
            "desvio padrão: 0.0305\n",
            "erro instrumental: 0.014\n",
            "estimativa: 1.656 ± 0.014\n",
            "\n",
            "40°\n",
            "maximo 40° : 1.704\n",
            "minimo 40° : 1.632\n",
            "media 40° : 1.683\n",
            "abrangencia 40° : 0.072\n",
            "desvio padrão: 0.0273\n",
            "erro instrumental: 0.012\n",
            "estimativa: 1.683 ± 0.012\n",
            "\n",
            "50°\n",
            "maximo 50° : 1.69\n",
            "minimo 50° : 1.665\n",
            "media 50° : 1.676\n",
            "abrangencia 50° : 0.025\n",
            "desvio padrão: 0.0108\n",
            "erro instrumental: 0.005\n",
            "estimativa: 1.676 ± 0.005\n",
            "\n",
            "60°\n",
            "maximo 60° : 1.665\n",
            "minimo 60° : 1.6\n",
            "media 60° : 1.618\n",
            "abrangencia 60° : 0.065\n",
            "desvio padrão: 0.024\n",
            "erro instrumental: 0.011\n",
            "estimativa: 1.618 ± 0.011\n",
            "\n",
            "70°\n",
            "maximo 70° : 1.591\n",
            "minimo 70° : 1.556\n",
            "media 70° : 1.576\n",
            "abrangencia 70° : 0.035\n",
            "desvio padrão: 0.012\n",
            "erro instrumental: 0.005\n",
            "estimativa: 1.576 ± 0.005\n",
            "\n",
            "80°\n",
            "maximo 80° : 1.309\n",
            "minimo 80° : 1.214\n",
            "media 80° : 1.279\n",
            "abrangencia 80° : 0.095\n",
            "desvio padrão: 0.0341\n",
            "erro instrumental: 0.015\n",
            "estimativa: 1.279 ± 0.015\n",
            "\n"
          ]
        }
      ]
    },
    {
      "cell_type": "code",
      "source": [
        "obj = {}\n",
        "obj['ângulo'] = []\n",
        "obj['máximo'] = []\n",
        "obj['mínimo'] = []\n",
        "obj['media'] = []\n",
        "obj['abrangência'] = []\n",
        "obj['desvio padrão'] = []\n",
        "obj['erro instrumental'] = []\n",
        "obj['estimativa'] = []\n",
        "\n",
        "for key in df.keys():\n",
        "  maximo , minimo , media = round(df[key].max(),3) , round(df[key].min(),3) ,  round(df[key].mean(),3)\n",
        "  abr = round(maximo - minimo,3)\n",
        "  desvioPd = round(getDesvioPadrao(df[key]),4)\n",
        "  erroInstrumental = round(getErroInstrumental(df[key]),3)\n",
        "  estimativa = f'{media} ± {erroInstrumental}'\n",
        "  obj['ângulo'].append(key)\n",
        "  obj['máximo'].append(maximo)\n",
        "  obj['mínimo'].append(minimo)\n",
        "  obj['media'].append(media)\n",
        "  obj['abrangência'].append(abr)\n",
        "  obj['desvio padrão'].append(desvioPd)\n",
        "  obj['erro instrumental'].append(erroInstrumental)\n",
        "  obj['estimativa'].append(estimativa)\n",
        "\n",
        "objDf = pd.DataFrame(obj)\n",
        "objDf.to_html()"
      ],
      "metadata": {
        "id": "rCN0EVlELaBX"
      },
      "execution_count": null,
      "outputs": []
    },
    {
      "cell_type": "code",
      "source": [
        "df.values[0]"
      ],
      "metadata": {
        "colab": {
          "base_uri": "https://localhost:8080/"
        },
        "id": "d67F8-PtqCjj",
        "outputId": "44070702-f1d5-4600-b2ea-b9d89f665988"
      },
      "execution_count": 10,
      "outputs": [
        {
          "output_type": "execute_result",
          "data": {
            "text/plain": [
              "array([1.68 , 1.7  , 1.67 , 1.6  , 1.556, 1.284])"
            ]
          },
          "metadata": {},
          "execution_count": 10
        }
      ]
    },
    {
      "cell_type": "code",
      "source": [
        "fig, ax = plt.subplots()\n",
        "x= lambda n : list(map(lambda x: 10*n + 30,range(len(data[0]))))\n",
        "for i in range(len(data)):\n",
        "  ax.scatter(x=x(i) ,y= data[i])\n",
        "\n",
        "base = list(map(lambda x: 30 + (10*x),range(len(data))))\n",
        "counts = list(map(lambda x : np.mean(x),data))\n",
        "ax.plot(base,counts,color='y')\n",
        "fig.set_size_inches(13,7)\n",
        "ax.set_ylabel('distancia percorrida em metros')\n",
        "ax.set_xlabel('distancia em °')\n",
        "fig.patch.set_facecolor('xkcd:white')\n",
        "fig.show()"
      ],
      "metadata": {
        "colab": {
          "base_uri": "https://localhost:8080/",
          "height": 442
        },
        "id": "J8GdfMpOoeQq",
        "outputId": "6723faf8-2ce8-465f-e926-44a2a8907bd3"
      },
      "execution_count": 18,
      "outputs": [
        {
          "output_type": "display_data",
          "data": {
            "text/plain": [
              "<Figure size 936x504 with 1 Axes>"
            ],
            "image/png": "[encoded data removed]"
          },
          "metadata": {}
        }
      ]
    }
  ]
}