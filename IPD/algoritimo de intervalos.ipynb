{
 "cells": [
  {
   "cell_type": "code",
   "execution_count": 18,
   "metadata": {},
   "outputs": [],
   "source": [
    "import pandas as pd\n",
    "import numpy as np"
   ]
  },
  {
   "cell_type": "code",
   "execution_count": 29,
   "metadata": {},
   "outputs": [
    {
     "data": {
      "text/plain": [
       "{'1-23': [(1, 2),\n",
       "  (2, 3),\n",
       "  (3, 4),\n",
       "  (4, 6),\n",
       "  (6, 7),\n",
       "  (7, 12),\n",
       "  (12, 22),\n",
       "  (22, 23),\n",
       "  (23, 1)],\n",
       " '1-4': [(1, 2), (2, 3), (3, 4), (23, 1)],\n",
       " '3-6': [(3, 4), (4, 6), (23, 1)],\n",
       " '7-12': [(7, 12), (23, 1)],\n",
       " '12-23': [(12, 22), (22, 23), (23, 1)],\n",
       " '4-23': [(4, 6), (6, 7), (7, 12), (12, 22), (22, 23), (23, 1)],\n",
       " '1-2': [(1, 2), (23, 1)],\n",
       " '4-6': [(4, 6), (23, 1)],\n",
       " '4-22': [(4, 6), (6, 7), (7, 12), (12, 22), (23, 1)],\n",
       " '23-4': [(1, 2), (2, 3), (3, 4), (23, 1)]}"
      ]
     },
     "execution_count": 29,
     "metadata": {},
     "output_type": "execute_result"
    }
   ],
   "source": [
    "def get_nanos_intervals(dataframe:pd.DataFrame):\n",
    "    raw_intervals = dataframe['intervalo']\n",
    "    prepared_intervals = [interval.replace(' ','').split('-') for interval in  raw_intervals]\n",
    "    prepared_intervals = [[int(e[0]), int(e[1])] for e in prepared_intervals]\n",
    "\n",
    "    change_moments = []\n",
    "    for interval in prepared_intervals:\n",
    "        change_moments.extend(interval)\n",
    "    change_moments = list(set(change_moments))\n",
    "    sorted_change_moments = sorted(list(map(lambda x : int(x),change_moments)))\n",
    "\n",
    "    intervals = []\n",
    "    for i ,moment in enumerate(sorted_change_moments):\n",
    "        intervals.append((sorted_change_moments[-i-1],sorted_change_moments[-i]))\n",
    "    intervals.reverse()\n",
    "    return intervals\n",
    "\n",
    "def is_valid_interval(interval,nano):\n",
    "    [i1,i2] = interval\n",
    "    [n1,n2] = nano\n",
    "    i1 = (i1 - 24) if i1>i2 else i1\n",
    "    c1 = (n1>=i1 and n2 <=i2)\n",
    "\n",
    "    return c1\n",
    "\n",
    "\n",
    "def discovery_nanos_from_intervals(dataframe:pd.DataFrame):\n",
    "    raw_intervals = dataframe['intervalo']\n",
    "    prepared_intervals = [interval.replace(' ','').split('-') for interval in  raw_intervals]\n",
    "    prepared_intervals = [[int(e[0]), int(e[1])] for e in prepared_intervals]\n",
    "    nanos = get_nanos_intervals(dataframe)\n",
    "\n",
    "    nanos_dict = {}\n",
    "    for i, interval in enumerate(prepared_intervals):\n",
    "        nanos_dict[raw_intervals[i]] = [nano for nano in nanos if is_valid_interval(interval,nano)]\n",
    "\n",
    "    return nanos_dict\n",
    "\n",
    "discovery_nanos_from_intervals(df)"
   ]
  },
  {
   "cell_type": "code",
   "execution_count": 28,
   "metadata": {},
   "outputs": [
    {
     "data": {
      "text/plain": [
       "Index(['id', 'intervalo', 'ordem'], dtype='object')"
      ]
     },
     "execution_count": 28,
     "metadata": {},
     "output_type": "execute_result"
    }
   ],
   "source": [
    "df = pd.read_excel('teste intervalos.xlsx')\n",
    "df.keys()"
   ]
  },
  {
   "cell_type": "code",
   "execution_count": 30,
   "metadata": {},
   "outputs": [],
   "source": [
    "new_df_model = {\n",
    "    'id' : []\n",
    "    ,'intervalo' : []\n",
    "    ,'ordem' : []\n",
    "}\n",
    "\n",
    "nanos_dict = discovery_nanos_from_intervals(df)\n",
    "\n",
    "new_df = pd.DataFrame(new_df_model)\n",
    "for id, intervalo, ordem in zip(df['id'], df['intervalo'],df['ordem']):\n",
    "    for nano in nanos_dict[intervalo]:\n",
    "        new_row = [id,f'{nano[0]}H - {nano[1]}H',ordem]\n",
    "        new_df.loc[len(new_df)] = new_row"
   ]
  },
  {
   "cell_type": "code",
   "execution_count": 31,
   "metadata": {},
   "outputs": [],
   "source": [
    "new_df.to_excel('salvo.xlsx',index=False)"
   ]
  }
 ],
 "metadata": {
  "kernelspec": {
   "display_name": "Python 3",
   "language": "python",
   "name": "python3"
  },
  "language_info": {
   "codemirror_mode": {
    "name": "ipython",
    "version": 3
   },
   "file_extension": ".py",
   "mimetype": "text/x-python",
   "name": "python",
   "nbconvert_exporter": "python",
   "pygments_lexer": "ipython3",
   "version": "3.11.3"
  },
  "orig_nbformat": 4
 },
 "nbformat": 4,
 "nbformat_minor": 2
}
