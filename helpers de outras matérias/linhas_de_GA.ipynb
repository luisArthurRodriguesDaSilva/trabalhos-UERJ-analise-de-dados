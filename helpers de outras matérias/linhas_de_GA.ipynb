{
  "nbformat": 4,
  "nbformat_minor": 0,
  "metadata": {
    "colab": {
      "provenance": [],
      "authorship_tag": "ABX9TyPM3TsTeTj/ymPLPEH/5esm",
      "include_colab_link": true
    },
    "kernelspec": {
      "name": "python3",
      "display_name": "Python 3"
    },
    "language_info": {
      "name": "python"
    }
  },
  "cells": [
    {
      "cell_type": "markdown",
      "metadata": {
        "id": "view-in-github",
        "colab_type": "text"
      },
      "source": [
        "<a href=\"https://colab.research.google.com/github/luisArthurRodriguesDaSilva/trabalho-UERJ-analise-de-dados/blob/main/linhas_de_GA.ipynb\" target=\"_parent\"><img src=\"https://colab.research.google.com/assets/colab-badge.svg\" alt=\"Open In Colab\"/></a>"
      ]
    },
    {
      "cell_type": "code",
      "execution_count": 30,
      "metadata": {
        "colab": {
          "base_uri": "https://localhost:8080/"
        },
        "id": "sW8ybAV9n1lM",
        "outputId": "7ed76305-4749-49b0-ff03-05fa5ffc1e48"
      },
      "outputs": [
        {
          "output_type": "stream",
          "name": "stdout",
          "text": [
            "-0.7999999999999998 -0.4 1.0\n",
            "-3.999999999999999 -2.0 5.0\n",
            "-19.999999999999996 -10.0 25.0\n",
            "-99.99999999999999 -50.0 125.0\n",
            "L: (7.0, 0.0, 1.0) + t(-499.99999999999994, -250.0, 625.0)\n"
          ]
        }
      ],
      "source": [
        "import numpy as np\n",
        "\n",
        "relations = lambda x ,y,z : np.array([(x-7)/2,y,(2-(2*z))/5]) # aqui são colocadas as condições\n",
        "\n",
        "def tryOneValue(rel,value):\n",
        "  return rel(value,value,value)\n",
        "\n",
        "def getPoint(rel,z=1,x='F',y='F',):\n",
        "  consts =[cx,cy,cz] = tryOneValue(rel,0)\n",
        "  angulars = [ax,ay,az] = tryOneValue(rel,1) - consts\n",
        "  piX = ((az*z)+cz-cx)/ax\n",
        "  piY = ((az*z)+cz-cy)/ay\n",
        "  return np.array([piX,piY,z])\n",
        "  \n",
        "def getDirector(rel):\n",
        "  [initialPoint,p2] = getPoint(rel,1),getPoint(rel,0)\n",
        "  director =initialPoint -p2\n",
        "  return list(map(lambda x : (float(x)),director))\n",
        "\n",
        "def getReta(rel):\n",
        "  [px,py,pv],[xv,yv,zv] = list(map(lambda x : float(x),getPoint(rel))),getDirector(rel)\n",
        "\n",
        "  while xv%1 != 0 or yv%1!=0 or xv%1!=0 :\n",
        "    print(xv,yv,zv)\n",
        "    xv*=5\n",
        "    yv*=5\n",
        "    zv*=5\n",
        "        \n",
        "    if ((xv**2)**(1/2)) >= 100:\n",
        "      break\n",
        "  print(f'L: {px,py,pv} + t{xv,yv,zv}')\n",
        "\n",
        "getReta(relations)"
      ]
    },
    {
      "cell_type": "code",
      "source": [],
      "metadata": {
        "id": "MdtbkkZK5ojt"
      },
      "execution_count": null,
      "outputs": []
    }
  ]
}